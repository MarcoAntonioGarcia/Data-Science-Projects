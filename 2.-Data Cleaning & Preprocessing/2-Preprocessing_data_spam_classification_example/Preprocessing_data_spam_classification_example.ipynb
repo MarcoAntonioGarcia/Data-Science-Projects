{
 "cells": [
  {
   "cell_type": "markdown",
   "metadata": {},
   "source": [
    "# Email Data Preprocessing for Machine Learning\n",
    "\n",
    "**Author:** Marco Antonio García Sánchez  \n",
    "**Objective:** Demonstrate comprehensive data preprocessing techniques for email text data, preparing it for machine learning classification algorithms.  \n",
    "**Dataset:** [TREC 2007 Public Spam Corpus](http://plg.uwaterloo.ca/~gvcormac/trec07/) – 75,419 emails labeled as spam or ham.\n",
    "\n",
    "---\n",
    "\n",
    "**Educational Use Only:** This notebook is developed for learning purposes as part of a Data Science portfolio. Original concepts adapted with proper attribution to academic sources.\n",
    "\n",
    "**Original source / credit:**  \n",
    "This notebook is based on the Udemy course: **\"Machine Learning y Data Science: Curso Completo con Python\"**  \n",
    "URL: [udemy.com/course/machine-learning-desde-cero/learn/lecture/19203700](http://udemy.com/course/machine-learning-desde-cero/learn/lecture/19203700)\n",
    "\n",
    "**Modifications and improvements:**  \n",
    "- Reorganized sections for clarity and reproducibility.  \n",
    "- Added **detailed Markdown documentation** in English.  \n",
    "- Included **comprehensive preprocessing pipeline**: HTML tag removal, punctuation cleaning, stopwords removal, and stemming.  \n",
    "- Implemented **text vectorization** using `CountVectorizer` for converting emails into numerical features.  \n",
    "- Enhanced code structure and documentation for **GitHub repository presentation**.  \n",
    "- Focused on **data preprocessing best practices** and techniques.\n",
    "\n",
    "---\n",
    "\n",
    "This notebook demonstrates **essential data preprocessing skills** for text classification projects, showing the complete transformation from raw email data to machine learning-ready numerical features.\n",
    "\n",
    "**Integration with ML Projects:** The preprocessed data from this notebook will be used to demonstrate different classification methods using various machine learning algorithms in the Machine Learning section of this portfolio."
   ]
  },
  {
   "cell_type": "markdown",
   "metadata": {},
   "source": [
    "#### Dataset Selection\n",
    "\n",
    "The objective of this project is to demonstrate **comprehensive data preprocessing techniques** for text classification using email data.  \n",
    "For this purpose, the following dataset has been selected:\n",
    "\n",
    "**2007 TREC Public Spam Corpus**\n",
    "\n",
    "The `trec07p` corpus contains **75,419 messages**:  \n",
    "\n",
    "- 25,220 HAM (legitimate emails)  \n",
    "- 50,199 SPAM  \n",
    "\n",
    "These messages represent all emails delivered to a particular server between the following dates:  \n",
    "\n",
    "- Sun, 8 Apr 2007 13:07:21 -0400  \n",
    "- Fri, 6 Jul 2007 07:04:53 -0400  \n",
    "\n",
    "This dataset serves as an excellent example for demonstrating **text preprocessing techniques**, including HTML parsing, text cleaning, tokenization, and vectorization for machine learning applications."
   ]
  },
  {
   "cell_type": "markdown",
   "metadata": {},
   "source": [
    "## 1.- Environment & Libraries"
   ]
  },
  {
   "cell_type": "markdown",
   "metadata": {},
   "source": [
    "#### Python Environment Setup\n",
    "To ensure reproducibility and avoid conflicts between Python packages, it is recommended to use a **virtual environment** for each project.  \n",
    "This way, you can create, manage, and delete environments without affecting your main Python installation.\n",
    "\n",
    "#### Steps to create a virtual environment (optional but recommended):\n",
    "```bash\n",
    "# Create a virtual environment named 'ml_env'\n",
    "python -m venv ml_env\n",
    "\n",
    "# Activate the environment (Windows)\n",
    "ml_env\\Scripts\\activate\n",
    "\n",
    "# Activate the environment (macOS/Linux)\n",
    "source ml_env/bin/activate\n",
    "\n",
    "# After finishing the project, you can deactivate it\n",
    "deactivate\n",
    "\n",
    "# If you want to remove the environment completely, just delete the folder\n",
    "rm -rf ml_env"
   ]
  },
  {
   "cell_type": "markdown",
   "metadata": {},
   "source": [
    "## 2.- Data Cleaning"
   ]
  },
  {
   "cell_type": "markdown",
   "metadata": {},
   "source": [
    "#### Cleaning HTML data"
   ]
  },
  {
   "cell_type": "markdown",
   "metadata": {},
   "source": [
    "In this practical case related to SPAM email detection, the dataset consists of emails with their corresponding headers and additional fields. Therefore, the data requires **preprocessing** before being fed into the Machine Learning algorithm."
   ]
  },
  {
   "cell_type": "code",
   "execution_count": 1,
   "metadata": {},
   "outputs": [],
   "source": [
    "# ------------------------------------------------------------\n",
    "# This class facilitates preprocessing of emails containing HTML code.\n",
    "# It extracts only the text content, removing all HTML tags.\n",
    "# ------------------------------------------------------------\n",
    "\n",
    "from html.parser import HTMLParser\n",
    "\n",
    "class MLStripper(HTMLParser):\n",
    "    \"MLStripper is a helper class for cleaning HTML content in emails.It inherits from Python's built-in HTMLParser.\"\n",
    "    def __init__(self):\n",
    "        super().__init__()\n",
    "        self.strict = False          # Do not raise errors on malformed HTML\n",
    "        self.convert_charrefs = True # Convert HTML character references automatically\n",
    "        self.fed = []                # List to store text segments\n",
    "\n",
    "    def handle_data(self, d):\n",
    "        \"This method is called for each chunk of text found inside HTML.It appends the text to the fed list.\"\n",
    "        self.fed.append(d)\n",
    "\n",
    "    def get_data(self):\n",
    "        \"Joins all text segments and returns the cleaned text.\"\n",
    "        return ''.join(self.fed)"
   ]
  },
  {
   "cell_type": "code",
   "execution_count": 2,
   "metadata": {},
   "outputs": [],
   "source": [
    "# ------------------------------------------------------------\n",
    "# This function removes HTML tags from the text of an email.\n",
    "# It uses the MLStripper class defined above to extract only the text content.\n",
    "# ------------------------------------------------------------\n",
    "def strip_tags(html):\n",
    "    \"\"\"\n",
    "    Remove HTML tags from a given HTML string.\n",
    "    Parameters:\n",
    "    -----------\n",
    "    html : str\n",
    "        The HTML content to be cleaned.\n",
    "    Returns:\n",
    "    --------\n",
    "    str\n",
    "        Cleaned text with all HTML tags removed.\n",
    "    Usage:\n",
    "    ------\n",
    "    clean_text = strip_tags(email_html_content)\n",
    "    \"\"\"\n",
    "    s = MLStripper()\n",
    "    s.feed(html)\n",
    "    return s.get_data()"
   ]
  },
  {
   "cell_type": "code",
   "execution_count": 3,
   "metadata": {},
   "outputs": [
    {
     "name": "stdout",
     "output_type": "stream",
     "text": [
      "\n",
      "\n",
      "  Special Offer!\n",
      "  \n",
      "    Congratulations!\n",
      "    Dear user,\n",
      "    You have been selected to receive a 50% discount on our premium plan.\n",
      "    Click here to claim your offer.\n",
      "    \n",
      "      Contact us at support@example.com\n",
      "      © 2025 Example Corp.\n",
      "    \n",
      "  \n",
      "\n",
      "\n"
     ]
    }
   ],
   "source": [
    "# Example of removing HTML tags from a more realistic email content\n",
    "email_html = \"\"\"\n",
    "<html>\n",
    "  <head><title>Special Offer!</title></head>\n",
    "  <body>\n",
    "    <h1>Congratulations!</h1>\n",
    "    <p>Dear user,</p>\n",
    "    <p>You have been selected to receive a <b>50% discount</b> on our premium plan.</p>\n",
    "    <p>Click <a href=\"https://www.example.com/redeem\">here</a> to claim your offer.</p>\n",
    "    <footer>\n",
    "      <p>Contact us at support@example.com</p>\n",
    "      <p>&copy; 2025 Example Corp.</p>\n",
    "    </footer>\n",
    "  </body>\n",
    "</html>\n",
    "\"\"\"\n",
    "\n",
    "# Clean the HTML using the strip_tags function\n",
    "clean_text = strip_tags(email_html)\n",
    "print(clean_text)"
   ]
  },
  {
   "cell_type": "markdown",
   "metadata": {},
   "source": [
    "#### Cleaning and reduce noise"
   ]
  },
  {
   "cell_type": "markdown",
   "metadata": {},
   "source": [
    "In addition to removing possible HTML tags from emails, several other preprocessing steps are necessary to reduce noise in the messages. These steps include:\n",
    "\n",
    "- **Removing punctuation** to clean the text from unnecessary symbols.  \n",
    "- **Discarding irrelevant email fields** that do not contribute useful information.  \n",
    "- **Stemming**: reducing words to their root form by removing affixes.  \n",
    "\n",
    "The following class implements these transformations, preparing the email content for Machine Learning algorithms."
   ]
  },
  {
   "cell_type": "code",
   "execution_count": 9,
   "metadata": {},
   "outputs": [
    {
     "name": "stderr",
     "output_type": "stream",
     "text": [
      "[nltk_data] Downloading package stopwords to /Users/marco/nltk_data...\n",
      "[nltk_data]   Package stopwords is already up-to-date!\n"
     ]
    }
   ],
   "source": [
    "\n",
    "import nltk\n",
    "nltk.download('stopwords')\n",
    "\n",
    "class Parser:\n",
    "    \"\"\"\n",
    "    Preprocess emails: remove HTML, punctuation, stopwords, and apply stemming.\n",
    "    \"\"\"\n",
    "\n",
    "    def __init__(self):\n",
    "        self.stemmer = nltk.PorterStemmer()\n",
    "        self.stopwords = set(nltk.corpus.stopwords.words('english'))\n",
    "        self.punctuation = list(string.punctuation)\n",
    "\n",
    "    def parse(self, email_path):\n",
    "        \"\"\"Parse email file and return content as dict.\"\"\"\n",
    "        with open(email_path, errors='ignore') as e:\n",
    "            msg = email.message_from_file(e)\n",
    "        return None if not msg else self.get_email_content(msg)\n",
    "\n",
    "    def get_email_content(self, msg):\n",
    "        \"\"\"Extract subject, body, and content type from email.\"\"\"\n",
    "        subject = self.tokenize(msg['Subject']) if msg['Subject'] else []\n",
    "        body = self.get_email_body(msg.get_payload(), msg.get_content_type())\n",
    "        content_type = msg.get_content_type()\n",
    "        return {\"subject\": subject, \"body\": body, \"content_type\": content_type}\n",
    "\n",
    "    def get_email_body(self, payload, content_type):\n",
    "        \"\"\"Extract and preprocess email body.\"\"\"\n",
    "        body = []\n",
    "        if type(payload) is str and content_type == 'text/plain':\n",
    "            return self.tokenize(payload)\n",
    "        elif type(payload) is str and content_type == 'text/html':\n",
    "            return self.tokenize(strip_tags(payload))\n",
    "        elif type(payload) is list:\n",
    "            for p in payload:\n",
    "                body += self.get_email_body(p.get_payload(), p.get_content_type())\n",
    "        return body\n",
    "\n",
    "    def tokenize(self, text):\n",
    "        \"\"\"Clean text: remove punctuation, stopwords, and apply stemming.\"\"\"\n",
    "        for c in self.punctuation:\n",
    "            text = text.replace(c, \"\")\n",
    "        text = text.replace(\"\\t\", \" \").replace(\"\\n\", \" \")\n",
    "        tokens = list(filter(None, text.split(\" \")))\n",
    "        return [self.stemmer.stem(w) for w in tokens if w not in self.stopwords]"
   ]
  },
  {
   "cell_type": "markdown",
   "metadata": {},
   "source": [
    "#### Reading and Preprocessing a Single Email\n",
    "\n",
    "In the following cells, we:\n",
    "1. Read the raw content of an individual email from the dataset (`inmail.1`).\n",
    "2. Process it with the `Parser()` class to extract only the relevant words.\n",
    "\n",
    "Printing the entire raw email is optional, but it is a useful **visual tool** to see what the functions are doing and how the email content looks before cleaning.\n",
    "\n",
    "The goal of the parser is to keep only the **meaningful words** in the message (e.g., \"free\", \"money\", \"offer\") and remove uninformative words such as articles (*the, a, an, el, los*) and other stopwords.  \n",
    "This reduces noise and makes the model focus on the truly discriminative features when classifying emails as spam or ham."
   ]
  },
  {
   "cell_type": "code",
   "execution_count": 10,
   "metadata": {},
   "outputs": [
    {
     "name": "stdout",
     "output_type": "stream",
     "text": [
      "From RickyAmes@aol.com  Sun Apr  8 13:07:32 2007\n",
      "Return-Path: <RickyAmes@aol.com>\n",
      "Received: from 129.97.78.23 ([211.202.101.74])\n",
      "\tby speedy.uwaterloo.ca (8.12.8/8.12.5) with SMTP id l38H7G0I003017;\n",
      "\tSun, 8 Apr 2007 13:07:21 -0400\n",
      "Received: from 0.144.152.6 by 211.202.101.74; Sun, 08 Apr 2007 19:04:48 +0100\n",
      "Message-ID: <WYADCKPDFWWTWTXNFVUE@yahoo.com>\n",
      "From: \"Tomas Jacobs\" <RickyAmes@aol.com>\n",
      "Reply-To: \"Tomas Jacobs\" <RickyAmes@aol.com>\n",
      "To: the00@speedy.uwaterloo.ca\n",
      "Subject: Generic Cialis, branded quality@ \n",
      "Date: Sun, 08 Apr 2007 21:00:48 +0300\n",
      "X-Mailer: Microsoft Outlook Express 6.00.2600.0000\n",
      "MIME-Version: 1.0\n",
      "Content-Type: multipart/alternative;\n",
      "\tboundary=\"--8896484051606557286\"\n",
      "X-Priority: 3\n",
      "X-MSMail-Priority: Normal\n",
      "Status: RO\n",
      "Content-Length: 988\n",
      "Lines: 24\n",
      "\n",
      "----8896484051606557286\n",
      "Content-Type: text/html;\n",
      "Content-Transfer-Encoding: 7Bit\n",
      "\n",
      "<html>\n",
      "<body bgcolor=\"#ffffff\">\n",
      "<div style=\"border-color: #00FFFF; border-right-width: 0px; border-bottom-width: 0px; margin-bottom: 0px;\" align=\"center\">\n",
      "<table style=\"border: 1px; border-style: solid; border-color:#000000;\" cellpadding=\"5\" cellspacing=\"0\" bgcolor=\"#CCFFAA\">\n",
      "<tr>\n",
      "<td style=\"border: 0px; border-bottom: 1px; border-style: solid; border-color:#000000;\">\n",
      "<center>\n",
      "Do you feel the pressure to perform and not rising to the occasion??<br>\n",
      "</center>\n",
      "</td></tr><tr>\n",
      "<td bgcolor=#FFFF33 style=\"border: 0px; border-bottom: 1px; border-style: solid; border-color:#000000;\">\n",
      "<center>\n",
      "\n",
      "<b><a href='http://excoriationtuh.com/?lzmfnrdkleks'>Try <span>V</span><span>ia<span></span>gr<span>a</span>.....</a></b></center>\n",
      "</td></tr><td><center>your anxiety will be a thing of the past and you will<br>\n",
      "be back to your old self.\n",
      "</center></td></tr></table></div></body></html>\n",
      "\n",
      "\n",
      "----8896484051606557286--\n",
      "\n",
      "\n"
     ]
    }
   ],
   "source": [
    "# Read the content of a specific email\n",
    "# (Optional: this step helps visualize the raw structure of an email before cleaning)\n",
    "import string\n",
    "inmail = open(\"/Users/marco/Desktop/GitRepositorios/Datasets/trec07p/data/inmail.1\").read()\n",
    "print(inmail)"
   ]
  },
  {
   "cell_type": "code",
   "execution_count": 12,
   "metadata": {},
   "outputs": [
    {
     "data": {
      "text/plain": [
       "{'subject': ['gener', 'ciali', 'brand', 'qualiti'],\n",
       " 'body': ['do',\n",
       "  'feel',\n",
       "  'pressur',\n",
       "  'perform',\n",
       "  'rise',\n",
       "  'occas',\n",
       "  'tri',\n",
       "  'viagra',\n",
       "  'anxieti',\n",
       "  'thing',\n",
       "  'past',\n",
       "  'back',\n",
       "  'old',\n",
       "  'self'],\n",
       " 'content_type': 'multipart/alternative'}"
      ]
     },
     "execution_count": 12,
     "metadata": {},
     "output_type": "execute_result"
    }
   ],
   "source": [
    "# Process the email with Parser to extract only the cleaned and relevant words\n",
    "# Stopwords and unimportant tokens are removed so the model can focus on meaningful content\n",
    "import email\n",
    "p = Parser()\n",
    "p.parse(\"/Users/marco/Desktop/GitRepositorios/Datasets/trec07p/data/inmail.1\")"
   ]
  },
  {
   "cell_type": "markdown",
   "metadata": {},
   "source": [
    "#### Procesamiento del archivo `index`  \n",
    "\n",
    "In this section:  \n",
    "1. We read the `index` file, which contains the list of all emails in the dataset along with their label (spam or ham).  \n",
    "2. We define the function `parse_index()` that extracts:  \n",
    "   - The **label** of the email (spam or ham).  \n",
    "   - The **file path** of the corresponding email.  \n",
    "   This is returned as a list of dictionaries for easier handling.  \n",
    "3. We define the function `parse_email()` that takes one index entry, opens the email, and processes it with the `Parser` to obtain only the relevant words along with its label.  \n",
    "\n",
    "This step is essential because it gives us a clean representation of each email: its filtered content and its category (spam or ham).  "
   ]
  },
  {
   "cell_type": "code",
   "execution_count": 13,
   "metadata": {},
   "outputs": [
    {
     "data": {
      "text/plain": [
       "['spam ../data/inmail.1\\n',\n",
       " 'ham ../data/inmail.2\\n',\n",
       " 'spam ../data/inmail.3\\n']"
      ]
     },
     "execution_count": 13,
     "metadata": {},
     "output_type": "execute_result"
    }
   ],
   "source": [
    "index = open(\"/Users/marco/Desktop/GitRepositorios/Datasets/trec07p/full/index\").readlines()\n",
    "index[0:3]"
   ]
  },
  {
   "cell_type": "code",
   "execution_count": 15,
   "metadata": {},
   "outputs": [],
   "source": [
    "import os\n",
    "DATASET_PATH = os.path.join(\"/Users/marco/Desktop/GitRepositorios/datasets\", \"trec07p\")\n",
    "\n",
    "def parse_index(path_to_index, n_elements):\n",
    "    ret_indexes = []\n",
    "    index = open(path_to_index).readlines()\n",
    "    for i in range(n_elements):\n",
    "        mail = index[i].split(\" ../\")\n",
    "        label = mail[0]\n",
    "        path = mail[1][:-1]\n",
    "        path_mail = path.split(\"/\")[-1]\n",
    "        ret_indexes.append({\"label\":label, \"email_path\":os.path.join(DATASET_PATH, os.path.join(\"data\", path_mail))})\n",
    "    return ret_indexes"
   ]
  },
  {
   "cell_type": "code",
   "execution_count": 16,
   "metadata": {},
   "outputs": [],
   "source": [
    "def parse_email(index):\n",
    "    p = Parser()\n",
    "    pmail = p.parse(index[\"email_path\"])\n",
    "    return pmail, index[\"label\"]"
   ]
  },
  {
   "cell_type": "code",
   "execution_count": 17,
   "metadata": {},
   "outputs": [
    {
     "data": {
      "text/plain": [
       "[{'label': 'spam',\n",
       "  'email_path': '/Users/marco/Desktop/GitRepositorios/datasets/trec07p/data/inmail.1'},\n",
       " {'label': 'ham',\n",
       "  'email_path': '/Users/marco/Desktop/GitRepositorios/datasets/trec07p/data/inmail.2'},\n",
       " {'label': 'spam',\n",
       "  'email_path': '/Users/marco/Desktop/GitRepositorios/datasets/trec07p/data/inmail.3'}]"
      ]
     },
     "execution_count": 17,
     "metadata": {},
     "output_type": "execute_result"
    }
   ],
   "source": [
    "indexes = parse_index(\"/Users/marco/Desktop/GitRepositorios/datasets/trec07p/full/index\", 3)\n",
    "indexes"
   ]
  },
  {
   "cell_type": "markdown",
   "metadata": {},
   "source": [
    "\n",
    "## 3.- Preprocess Show\n",
    "\n",
    "English:\n",
    "In this code block we demonstrate how we transform an email from raw text (strings)\n",
    "into numerical representations that can be used by Machine Learning algorithms. \n",
    "The steps are:\n",
    "\n",
    "1. Load the index and read one email from the dataset (spam or ham).\n",
    "2. Process the email with parse_email to separate subject and body.\n",
    "3. Convert the text into numerical representations in two different ways:\n",
    "   a) Bag of Words with CountVectorizer (each word is treated as a feature).\n",
    "4. Display the extracted features and their numerical values.\n",
    "\n",
    "This shows how raw text is converted into structured data \n",
    "for use in spam classification models.\n",
    "\"\"\""
   ]
  },
  {
   "cell_type": "code",
   "execution_count": 18,
   "metadata": {},
   "outputs": [
    {
     "data": {
      "text/plain": [
       "[{'label': 'spam',\n",
       "  'email_path': '/Users/marco/Desktop/GitRepositorios/datasets/trec07p/data/inmail.1'}]"
      ]
     },
     "execution_count": 18,
     "metadata": {},
     "output_type": "execute_result"
    }
   ],
   "source": [
    "# Load the index and labels into memory (only one email for demonstration)\n",
    "index = parse_index(\"/Users/marco/Desktop/GitRepositorios/datasets/trec07p/full/index\", 1)\n",
    "index"
   ]
  },
  {
   "cell_type": "code",
   "execution_count": 20,
   "metadata": {},
   "outputs": [
    {
     "data": {
      "text/plain": [
       "'From RickyAmes@aol.com  Sun Apr  8 13:07:32 2007\\nReturn-Path: <RickyAmes@aol.com>\\nReceived: from 129.97.78.23 ([211.202.101.74])\\n\\tby speedy.uwaterloo.ca (8.12.8/8.12.5) with SMTP id l38H7G0I003017;\\n\\tSun, 8 Apr 2007 13:07:21 -0400\\nReceived: from 0.144.152.6 by 211.202.101.74; Sun, 08 Apr 2007 19:04:48 +0100\\nMessage-ID: <WYADCKPDFWWTWTXNFVUE@yahoo.com>\\nFrom: \"Tomas Jacobs\" <RickyAmes@aol.com>\\nReply-To: \"Tomas Jacobs\" <RickyAmes@aol.com>\\nTo: the00@speedy.uwaterloo.ca\\nSubject: Generic Cialis, branded quality@ \\nDate: Sun, 08 Apr 2007 21:00:48 +0300\\nX-Mailer: Microsoft Outlook Express 6.00.2600.0000\\nMIME-Version: 1.0\\nContent-Type: multipart/alternative;\\n\\tboundary=\"--8896484051606557286\"\\nX-Priority: 3\\nX-MSMail-Priority: Normal\\nStatus: RO\\nContent-Length: 988\\nLines: 24\\n\\n----8896484051606557286\\nContent-Type: text/html;\\nContent-Transfer-Encoding: 7Bit\\n\\n<html>\\n<body bgcolor=\"#ffffff\">\\n<div style=\"border-color: #00FFFF; border-right-width: 0px; border-bottom-width: 0px; margin-bottom: 0px;\" align=\"center\">\\n<table style=\"border: 1px; border-style: solid; border-color:#000000;\" cellpadding=\"5\" cellspacing=\"0\" bgcolor=\"#CCFFAA\">\\n<tr>\\n<td style=\"border: 0px; border-bottom: 1px; border-style: solid; border-color:#000000;\">\\n<center>\\nDo you feel the pressure to perform and not rising to the occasion??<br>\\n</center>\\n</td></tr><tr>\\n<td bgcolor=#FFFF33 style=\"border: 0px; border-bottom: 1px; border-style: solid; border-color:#000000;\">\\n<center>\\n\\n<b><a href=\\'http://excoriationtuh.com/?lzmfnrdkleks\\'>Try <span>V</span><span>ia<span></span>gr<span>a</span>.....</a></b></center>\\n</td></tr><td><center>your anxiety will be a thing of the past and you will<br>\\nbe back to your old self.\\n</center></td></tr></table></div></body></html>\\n\\n\\n----8896484051606557286--\\n\\n'"
      ]
     },
     "execution_count": 20,
     "metadata": {},
     "output_type": "execute_result"
    }
   ],
   "source": [
    "# Read the raw content of the first email\n",
    "open(index[0][\"email_path\"]).read()"
   ]
  },
  {
   "cell_type": "code",
   "execution_count": 21,
   "metadata": {},
   "outputs": [
    {
     "name": "stdout",
     "output_type": "stream",
     "text": [
      "The email label is: spam\n",
      "{'subject': ['gener', 'ciali', 'brand', 'qualiti'], 'body': ['do', 'feel', 'pressur', 'perform', 'rise', 'occas', 'tri', 'viagra', 'anxieti', 'thing', 'past', 'back', 'old', 'self'], 'content_type': 'multipart/alternative'}\n"
     ]
    }
   ],
   "source": [
    "# Parse the email into structured format (subject, body, and label)\n",
    "mail, label = parse_email(index[0])\n",
    "print(\"The email label is:\", label)\n",
    "print(mail)"
   ]
  },
  {
   "cell_type": "markdown",
   "metadata": {},
   "source": [
    "### CountVectorizer – Transforming Text into Numbers  \n",
    "\n",
    "The **Logistic Regression algorithm cannot process raw text**. It needs numbers.  \n",
    "To solve this, we use **`CountVectorizer`**, which converts emails into a numerical format.  \n",
    "\n",
    "#### What CountVectorizer does  \n",
    "1. **Tokenization** → Splits the email into individual words (*tokens*).  \n",
    "   Example:  \n",
    "   `\"This email is spam\"` → `[ \"this\", \"email\", \"is\", \"spam\" ]`  \n",
    "\n",
    "2. **Builds a vocabulary** → Creates a dictionary of all unique words found in the text.  \n",
    "   Example:  \n",
    "   `{ \"this\": 0, \"email\": 1, \"is\": 2, \"spam\": 3 }`  \n",
    "\n",
    "3. **Counts word occurrences** → For each email, counts how many times each word appears.  \n",
    "   Example:  \n",
    "   `\"This email is spam spam\"` → `[1, 1, 1, 2]`  \n",
    "   *(“this” appears once, “email” once, “is” once, “spam” twice)*  \n",
    "\n",
    "This is called a **Bag-of-Words representation**, because it ignores grammar and word order, but keeps the frequency of words.  \n",
    "\n",
    "#### Why it matters  \n",
    "- Logistic Regression works only with **numerical features**, so Bag-of-Words makes text usable.  \n",
    "- Common, uninformative words (*“the”*, *“a”*, *“is”*, etc.) can be removed, since they don’t help classify spam vs ham (**stop-word removal**).  \n",
    "- The result is a **document-term matrix**, which becomes the input for the machine learning model.  "
   ]
  },
  {
   "cell_type": "code",
   "execution_count": 23,
   "metadata": {},
   "outputs": [
    {
     "name": "stdout",
     "output_type": "stream",
     "text": [
      "Email: ['gener ciali brand qualitido feel pressur perform rise occas tri viagra anxieti thing past back old self'] \n",
      "\n",
      "Input features (vocabulary): ['anxieti' 'back' 'brand' 'ciali' 'feel' 'gener' 'occas' 'old' 'past'\n",
      " 'perform' 'pressur' 'qualitido' 'rise' 'self' 'thing' 'tri' 'viagra']\n"
     ]
    }
   ],
   "source": [
    "from sklearn.feature_extraction.text import CountVectorizer\n",
    "\n",
    "# Prepare the email as a single string (subject + body combined)\n",
    "prep_email = [\" \".join(mail['subject']) + \" \".join(mail['body'])]\n",
    "\n",
    "# Transform text into a Bag-of-Words representation\n",
    "vectorizer = CountVectorizer()\n",
    "X = vectorizer.fit(prep_email)\n",
    "\n",
    "print(\"Email:\", prep_email, \"\\n\")\n",
    "print(\"Input features (vocabulary):\", vectorizer.get_feature_names_out())"
   ]
  },
  {
   "cell_type": "code",
   "execution_count": 24,
   "metadata": {},
   "outputs": [
    {
     "name": "stdout",
     "output_type": "stream",
     "text": [
      "\n",
      "Numerical values:\n",
      " [[1 1 1 1 1 1 1 1 1 1 1 1 1 1 1 1 1]]\n"
     ]
    }
   ],
   "source": [
    "# Convert the preprocessed email into numerical vector form\n",
    "X = vectorizer.transform(prep_email)\n",
    "print(\"\\nNumerical values:\\n\", X.toarray())"
   ]
  },
  {
   "cell_type": "markdown",
   "metadata": {},
   "source": [
    "### Function: `create_prep_dataset`\n",
    "\n",
    "#### Description\n",
    "Builds a dataset of emails ready for machine learning.  \n",
    "Concatenates the subject and body of each email and associates it with its label (`spam` or `ham`).\n",
    "#### Parameters\n",
    "- `index_path` (str): Path to the dataset index file.  \n",
    "- `n_elements` (int): Number of emails to process.  \n",
    "#### Returns\n",
    "- `X` (list of str): Full text of each email.  \n",
    "- `y` (list of str): Corresponding labels (`spam` or `ham`).  \n",
    "#### Notes\n",
    "- Skips emails that cannot be parsed.  \n",
    "- Useful for preparing raw emails before vectorization."
   ]
  },
  {
   "cell_type": "code",
   "execution_count": 25,
   "metadata": {},
   "outputs": [],
   "source": [
    "def create_prep_dataset(index_path, n_elements):\n",
    "    X = []\n",
    "    y = []\n",
    "    indexes = parse_index(index_path, n_elements)\n",
    "    for i in range(n_elements):\n",
    "        print(\"\\rParsing email: {0}\".format(i+1), end='')\n",
    "        try:\n",
    "            mail, label = parse_email(indexes[i])\n",
    "            X.append(\" \".join(mail['subject']) + \" \".join(mail['body']))\n",
    "            y.append(label)\n",
    "        except:\n",
    "            pass\n",
    "    return X, y"
   ]
  },
  {
   "cell_type": "markdown",
   "metadata": {},
   "source": [
    "## 4.- Training Dataset Preparation\n",
    "\n",
    "In this step, we prepare a subset of emails to train the machine learning model.  \n",
    "- We read **1000 emails** from the dataset (you can adjust the number as needed).  \n",
    "- The emails are preprocessed and transformed into a numerical format using the vectorizer.  \n",
    "- Finally, we display the numerical feature matrix and the number of features for inspection.  \n",
    "- Optionally, we convert it into a **Pandas DataFrame** for easier visualization and analysis.  \n"
   ]
  },
  {
   "cell_type": "code",
   "execution_count": 26,
   "metadata": {},
   "outputs": [
    {
     "name": "stdout",
     "output_type": "stream",
     "text": [
      "Parsing email: 1000"
     ]
    }
   ],
   "source": [
    "X_train, y_train = create_prep_dataset(\"/Users/marco/Desktop/GitRepositorios/datasets/trec07p/full/index\", 1000)\n",
    "vectorizer = CountVectorizer()\n",
    "X_train = vectorizer.fit_transform(X_train)"
   ]
  },
  {
   "cell_type": "code",
   "execution_count": 28,
   "metadata": {},
   "outputs": [
    {
     "data": {
      "text/html": [
       "<div>\n",
       "<style scoped>\n",
       "    .dataframe tbody tr th:only-of-type {\n",
       "        vertical-align: middle;\n",
       "    }\n",
       "\n",
       "    .dataframe tbody tr th {\n",
       "        vertical-align: top;\n",
       "    }\n",
       "\n",
       "    .dataframe thead tr th {\n",
       "        text-align: left;\n",
       "    }\n",
       "</style>\n",
       "<table border=\"1\" class=\"dataframe\">\n",
       "  <thead>\n",
       "    <tr>\n",
       "      <th></th>\n",
       "      <th>00</th>\n",
       "      <th>000</th>\n",
       "      <th>0000</th>\n",
       "      <th>000000</th>\n",
       "      <th>000002</th>\n",
       "      <th>000048000000000</th>\n",
       "      <th>000099</th>\n",
       "      <th>0000ff</th>\n",
       "      <th>000115000000000</th>\n",
       "      <th>0001171749</th>\n",
       "      <th>...</th>\n",
       "      <th>绰۹ϵͳctsƽ</th>\n",
       "      <th>肾ǝvă</th>\n",
       "      <th>鏗ėvłq</th>\n",
       "      <th>饻jwk</th>\n",
       "      <th>鵵χ</th>\n",
       "      <th>낢ȏglgwă</th>\n",
       "      <th>뵭袵</th>\n",
       "      <th>뼰ʱϵ</th>\n",
       "      <th>쫷ƹư</th>\n",
       "      <th>쵼ã</th>\n",
       "    </tr>\n",
       "  </thead>\n",
       "  <tbody>\n",
       "    <tr>\n",
       "      <th>0</th>\n",
       "      <td>0</td>\n",
       "      <td>0</td>\n",
       "      <td>0</td>\n",
       "      <td>0</td>\n",
       "      <td>0</td>\n",
       "      <td>0</td>\n",
       "      <td>0</td>\n",
       "      <td>0</td>\n",
       "      <td>0</td>\n",
       "      <td>0</td>\n",
       "      <td>...</td>\n",
       "      <td>0</td>\n",
       "      <td>0</td>\n",
       "      <td>0</td>\n",
       "      <td>0</td>\n",
       "      <td>0</td>\n",
       "      <td>0</td>\n",
       "      <td>0</td>\n",
       "      <td>0</td>\n",
       "      <td>0</td>\n",
       "      <td>0</td>\n",
       "    </tr>\n",
       "    <tr>\n",
       "      <th>1</th>\n",
       "      <td>0</td>\n",
       "      <td>0</td>\n",
       "      <td>0</td>\n",
       "      <td>0</td>\n",
       "      <td>0</td>\n",
       "      <td>0</td>\n",
       "      <td>0</td>\n",
       "      <td>0</td>\n",
       "      <td>0</td>\n",
       "      <td>0</td>\n",
       "      <td>...</td>\n",
       "      <td>0</td>\n",
       "      <td>0</td>\n",
       "      <td>0</td>\n",
       "      <td>0</td>\n",
       "      <td>0</td>\n",
       "      <td>0</td>\n",
       "      <td>0</td>\n",
       "      <td>0</td>\n",
       "      <td>0</td>\n",
       "      <td>0</td>\n",
       "    </tr>\n",
       "    <tr>\n",
       "      <th>2</th>\n",
       "      <td>0</td>\n",
       "      <td>0</td>\n",
       "      <td>0</td>\n",
       "      <td>0</td>\n",
       "      <td>0</td>\n",
       "      <td>0</td>\n",
       "      <td>0</td>\n",
       "      <td>0</td>\n",
       "      <td>0</td>\n",
       "      <td>0</td>\n",
       "      <td>...</td>\n",
       "      <td>0</td>\n",
       "      <td>0</td>\n",
       "      <td>0</td>\n",
       "      <td>0</td>\n",
       "      <td>0</td>\n",
       "      <td>0</td>\n",
       "      <td>0</td>\n",
       "      <td>0</td>\n",
       "      <td>0</td>\n",
       "      <td>0</td>\n",
       "    </tr>\n",
       "    <tr>\n",
       "      <th>3</th>\n",
       "      <td>0</td>\n",
       "      <td>0</td>\n",
       "      <td>0</td>\n",
       "      <td>0</td>\n",
       "      <td>0</td>\n",
       "      <td>0</td>\n",
       "      <td>0</td>\n",
       "      <td>0</td>\n",
       "      <td>0</td>\n",
       "      <td>0</td>\n",
       "      <td>...</td>\n",
       "      <td>0</td>\n",
       "      <td>0</td>\n",
       "      <td>0</td>\n",
       "      <td>0</td>\n",
       "      <td>0</td>\n",
       "      <td>0</td>\n",
       "      <td>0</td>\n",
       "      <td>0</td>\n",
       "      <td>0</td>\n",
       "      <td>0</td>\n",
       "    </tr>\n",
       "    <tr>\n",
       "      <th>4</th>\n",
       "      <td>0</td>\n",
       "      <td>0</td>\n",
       "      <td>0</td>\n",
       "      <td>0</td>\n",
       "      <td>0</td>\n",
       "      <td>0</td>\n",
       "      <td>0</td>\n",
       "      <td>0</td>\n",
       "      <td>0</td>\n",
       "      <td>0</td>\n",
       "      <td>...</td>\n",
       "      <td>0</td>\n",
       "      <td>0</td>\n",
       "      <td>0</td>\n",
       "      <td>0</td>\n",
       "      <td>0</td>\n",
       "      <td>0</td>\n",
       "      <td>0</td>\n",
       "      <td>0</td>\n",
       "      <td>0</td>\n",
       "      <td>0</td>\n",
       "    </tr>\n",
       "  </tbody>\n",
       "</table>\n",
       "<p>5 rows × 20890 columns</p>\n",
       "</div>"
      ],
      "text/plain": [
       "  00 000 0000 000000 000002 000048000000000 000099 0000ff 000115000000000  \\\n",
       "0  0   0    0      0      0               0      0      0               0   \n",
       "1  0   0    0      0      0               0      0      0               0   \n",
       "2  0   0    0      0      0               0      0      0               0   \n",
       "3  0   0    0      0      0               0      0      0               0   \n",
       "4  0   0    0      0      0               0      0      0               0   \n",
       "\n",
       "  0001171749  ... 绰۹ϵͳctsƽ 肾ǝvă 鏗ėvłq 饻jwk 鵵χ 낢ȏglgwă 뵭袵 뼰ʱϵ 쫷ƹư 쵼ã  \n",
       "0          0  ...        0    0     0    0  0       0  0   0   0  0  \n",
       "1          0  ...        0    0     0    0  0       0  0   0   0  0  \n",
       "2          0  ...        0    0     0    0  0       0  0   0   0  0  \n",
       "3          0  ...        0    0     0    0  0       0  0   0   0  0  \n",
       "4          0  ...        0    0     0    0  0       0  0   0   0  0  \n",
       "\n",
       "[5 rows x 20890 columns]"
      ]
     },
     "execution_count": 28,
     "metadata": {},
     "output_type": "execute_result"
    }
   ],
   "source": [
    "pd.DataFrame(X_train.toarray(), columns=[vectorizer.get_feature_names_out()]).head(5)\n"
   ]
  },
  {
   "cell_type": "markdown",
   "metadata": {},
   "source": [
    "## 6.- Exploratory Data Analysis (EDA)\n",
    "\n",
    "After preprocessing the email data and creating the numerical feature matrix, it's essential to analyze the characteristics of our processed dataset. This analysis helps us understand:\n",
    "\n",
    "- **Class distribution** in our dataset\n",
    "- **Email length patterns** by category  \n",
    "- **Most frequent words** that distinguish spam from ham\n",
    "- **Matrix characteristics** for machine learning readiness\n",
    "\n",
    "This exploratory analysis provides valuable insights before applying machine learning algorithms.\n"
   ]
  },
  {
   "cell_type": "code",
   "execution_count": 33,
   "metadata": {},
   "outputs": [
    {
     "name": "stdout",
     "output_type": "stream",
     "text": [
      "Spam: 783 emails (78.3%)\n",
      "Ham: 217 emails (21.7%)\n"
     ]
    },
    {
     "data": {
      "image/png": "[encoded data removed]",
      "text/plain": [
       "<Figure size 1000x600 with 1 Axes>"
      ]
     },
     "metadata": {},
     "output_type": "display_data"
    }
   ],
   "source": [
    "# DATASET ANALYSIS - CLASS DISTRIBUTION\n",
    "import matplotlib.pyplot as plt\n",
    "import numpy as np\n",
    "\n",
    "# Distribution of email classes\n",
    "plt.figure(figsize=(10, 6))\n",
    "class_counts = pd.Series(y_train).value_counts()\n",
    "colors = ['#ff6b6b', '#4ecdc4']  # Red for spam, Teal for ham\n",
    "labels = ['Spam', 'Ham']\n",
    "\n",
    "plt.pie(class_counts.values, labels=labels, autopct='%1.1f%%', \n",
    "        colors=colors, startangle=90, textprops={'fontsize': 12})\n",
    "plt.title('Distribution of Email Classes in Processed Dataset', fontsize=14, fontweight='bold')\n",
    "plt.axis('equal')\n",
    "\n",
    "# Add count information\n",
    "for i, (label, count) in enumerate(zip(labels, class_counts.values)):\n",
    "    print(f\"{label}: {count:,} emails ({count/len(y_train)*100:.1f}%)\")\n",
    "\n",
    "plt.show()\n"
   ]
  },
  {
   "cell_type": "code",
   "execution_count": 34,
   "metadata": {},
   "outputs": [
    {
     "data": {
      "image/png": "[encoded data removed]",
      "text/plain": [
       "<Figure size 1200x600 with 1 Axes>"
      ]
     },
     "metadata": {},
     "output_type": "display_data"
    },
    {
     "name": "stdout",
     "output_type": "stream",
     "text": [
      "Average unique words in Spam emails: 88.9\n",
      "Average unique words in Ham emails: 143.1\n",
      "Spam emails tend to have fewer unique words on average\n"
     ]
    }
   ],
   "source": [
    "# EMAIL LENGTH ANALYSIS BY CLASS\n",
    "# Calculate email lengths using non-zero elements as proxy for vocabulary size\n",
    "email_lengths_spam = []\n",
    "email_lengths_ham = []\n",
    "\n",
    "# Analyze vocabulary size (non-zero elements) by class\n",
    "for i, label in enumerate(y_train):\n",
    "    word_count = X_train[i].nnz  # Number of non-zero elements (unique words present)\n",
    "    if label == 'spam':\n",
    "        email_lengths_spam.append(word_count)\n",
    "    else:\n",
    "        email_lengths_ham.append(word_count)\n",
    "\n",
    "plt.figure(figsize=(12, 6))\n",
    "plt.hist(email_lengths_spam, alpha=0.7, label='Spam', bins=30, color='red', density=True)\n",
    "plt.hist(email_lengths_ham, alpha=0.7, label='Ham', bins=30, color='green', density=True)\n",
    "plt.xlabel('Number of Unique Words per Email', fontsize=12)\n",
    "plt.ylabel('Density', fontsize=12)\n",
    "plt.title('Distribution of Email Vocabulary Size by Class', fontsize=14, fontweight='bold')\n",
    "plt.legend(fontsize=12)\n",
    "plt.grid(True, alpha=0.3)\n",
    "plt.show()\n",
    "\n",
    "print(f\"Average unique words in Spam emails: {np.mean(email_lengths_spam):.1f}\")\n",
    "print(f\"Average unique words in Ham emails: {np.mean(email_lengths_ham):.1f}\")\n",
    "print(f\"Spam emails tend to have {'more' if np.mean(email_lengths_spam) > np.mean(email_lengths_ham) else 'fewer'} unique words on average\")\n"
   ]
  },
  {
   "cell_type": "code",
   "execution_count": 35,
   "metadata": {},
   "outputs": [
    {
     "data": {
      "image/png": "[encoded data removed]",
      "text/plain": [
       "<Figure size 1600x800 with 2 Axes>"
      ]
     },
     "metadata": {},
     "output_type": "display_data"
    },
    {
     "name": "stdout",
     "output_type": "stream",
     "text": [
      "\\n============================================================\n",
      "WORD FREQUENCY INSIGHTS\n",
      "============================================================\n",
      "\\nTop Spam Words:\n",
      " 1. the             (684 occurrences)\n",
      " 2. one             (545 occurrences)\n",
      " 3. price           (431 occurrences)\n",
      " 4. said            (385 occurrences)\n",
      " 5. new             (351 occurrences)\n",
      " 6. viagra          (346 occurrences)\n",
      " 7. know            (343 occurrences)\n",
      " 8. anatrim         (342 occurrences)\n",
      " 9. day             (342 occurrences)\n",
      "10. thi             (338 occurrences)\n",
      "\\nTop Ham Words:\n",
      " 1. the             (326 occurrences)\n",
      " 2. new             (314 occurrences)\n",
      " 3. use             (298 occurrences)\n",
      " 4. 2007            (227 occurrences)\n",
      " 5. list            (216 occurrences)\n",
      " 6. work            (202 occurrences)\n",
      " 7. to              (198 occurrences)\n",
      " 8. email           (194 occurrences)\n",
      " 9. read            (165 occurrences)\n",
      "10. pleas           (159 occurrences)\n",
      "\\nSpam-specific words (not in top Ham words): 13\n",
      "Ham-specific words (not in top Spam words): 13\n"
     ]
    }
   ],
   "source": [
    "# TOP WORDS ANALYSIS BY CLASS\n",
    "from collections import Counter\n",
    "\n",
    "def get_top_words_by_class(matrix, labels, target_label, feature_names, n=15):\n",
    "    \"\"\"\n",
    "    Get most frequent words for a specific class using the vectorized matrix\n",
    "    \"\"\"\n",
    "    # Get indices of emails belonging to target class\n",
    "    target_indices = [i for i, label in enumerate(labels) if label == target_label]\n",
    "    \n",
    "    # Sum word frequencies for target class\n",
    "    class_word_counts = matrix[target_indices].sum(axis=0).A1  # Convert to 1D array\n",
    "    \n",
    "    # Get top words with their counts\n",
    "    top_indices = np.argsort(class_word_counts)[-n:][::-1]  # Top n, reversed for descending order\n",
    "    top_words = [(feature_names[i], class_word_counts[i]) for i in top_indices if class_word_counts[i] > 0]\n",
    "    \n",
    "    return top_words\n",
    "\n",
    "# Get feature names from vectorizer\n",
    "feature_names = vectorizer.get_feature_names_out()\n",
    "\n",
    "# Get top words for each class\n",
    "spam_words = get_top_words_by_class(X_train, y_train, 'spam', feature_names, n=15)\n",
    "ham_words = get_top_words_by_class(X_train, y_train, 'ham', feature_names, n=15)\n",
    "\n",
    "# Create visualization\n",
    "fig, (ax1, ax2) = plt.subplots(1, 2, figsize=(16, 8))\n",
    "\n",
    "# Spam words\n",
    "spam_word_list = [word for word, _ in spam_words]\n",
    "spam_counts = [count for _, count in spam_words]\n",
    "ax1.barh(range(len(spam_word_list)), spam_counts, color='red', alpha=0.7)\n",
    "ax1.set_yticks(range(len(spam_word_list)))\n",
    "ax1.set_yticklabels(spam_word_list)\n",
    "ax1.set_xlabel('Frequency', fontsize=12)\n",
    "ax1.set_title('Top 15 Words in Spam Emails', fontsize=14, fontweight='bold')\n",
    "ax1.grid(True, alpha=0.3)\n",
    "\n",
    "# Ham words\n",
    "ham_word_list = [word for word, _ in ham_words]\n",
    "ham_counts = [count for _, count in ham_words]\n",
    "ax2.barh(range(len(ham_word_list)), ham_counts, color='green', alpha=0.7)\n",
    "ax2.set_yticks(range(len(ham_word_list)))\n",
    "ax2.set_yticklabels(ham_word_list)\n",
    "ax2.set_xlabel('Frequency', fontsize=12)\n",
    "ax2.set_title('Top 15 Words in Ham Emails', fontsize=14, fontweight='bold')\n",
    "ax2.grid(True, alpha=0.3)\n",
    "\n",
    "plt.tight_layout()\n",
    "plt.show()\n",
    "\n",
    "# Print insights\n",
    "print(\"\\\\n\" + \"=\"*60)\n",
    "print(\"WORD FREQUENCY INSIGHTS\")\n",
    "print(\"=\"*60)\n",
    "print(f\"\\\\nTop Spam Words:\")\n",
    "for i, (word, count) in enumerate(spam_words[:10], 1):\n",
    "    print(f\"{i:2d}. {word:<15} ({count} occurrences)\")\n",
    "\n",
    "print(f\"\\\\nTop Ham Words:\")\n",
    "for i, (word, count) in enumerate(ham_words[:10], 1):\n",
    "    print(f\"{i:2d}. {word:<15} ({count} occurrences)\")\n",
    "\n",
    "# Find words that are distinctive to each class\n",
    "spam_words_set = set(word for word, _ in spam_words)\n",
    "ham_words_set = set(word for word, _ in ham_words)\n",
    "spam_specific = spam_words_set - ham_words_set\n",
    "ham_specific = ham_words_set - spam_words_set\n",
    "\n",
    "print(f\"\\\\nSpam-specific words (not in top Ham words): {len(spam_specific)}\")\n",
    "print(f\"Ham-specific words (not in top Spam words): {len(ham_specific)}\")\n"
   ]
  },
  {
   "cell_type": "code",
   "execution_count": 36,
   "metadata": {},
   "outputs": [
    {
     "name": "stderr",
     "output_type": "stream",
     "text": [
      "/var/folders/74/wvgnxc2125s079cm4vbx5txw0000gn/T/ipykernel_24456/23408886.py:18: RuntimeWarning: divide by zero encountered in divide\n",
      "  discrimination_ratio = np.where(ham_counts > 0, spam_counts / ham_counts, spam_counts * 1000)\n"
     ]
    },
    {
     "data": {
      "image/png": "[encoded data removed]",
      "text/plain": [
       "<Figure size 1600x800 with 2 Axes>"
      ]
     },
     "metadata": {},
     "output_type": "display_data"
    },
    {
     "name": "stdout",
     "output_type": "stream",
     "text": [
      "\n",
      "======================================================================\n",
      "DISCRIMINATIVE WORDS ANALYSIS - KEY INSIGHTS\n",
      "======================================================================\n",
      "\n",
      " 🔴 MOST SPAM-DISCRIMINATIVE WORDS:\n",
      "--------------------------------------------------\n",
      " 1. viagra          | Ratio: 346000.0x | Spam: 346 | Ham:   0\n",
      " 2. anatrim         | Ratio: 342000.0x | Spam: 342 | Ham:   0\n",
      " 3. ciali           | Ratio: 315000.0x | Spam: 315 | Ham:   0\n",
      " 4. cdyv            | Ratio: 210000.0x | Spam: 210 | Ham:   0\n",
      " 5. pharmaci        | Ratio: 160000.0x | Spam: 160 | Ham:   0\n",
      " 6. 96              | Ratio: 132000.0x | Spam: 132 | Ham:   0\n",
      " 7. 0425            | Ratio: 132000.0x | Spam: 132 | Ham:   0\n",
      " 8. 0089            | Ratio: 132000.0x | Spam: 132 | Ham:   0\n",
      " 9. dose            | Ratio: 117000.0x | Spam: 117 | Ham:   0\n",
      "10. earth           | Ratio: 114000.0x | Spam: 114 | Ham:   0\n",
      "\n",
      " 🟢 HAM-ONLY WORDS (Anti-Spam Indicators):\n",
      "--------------------------------------------------\n",
      "   No significant ham-only words found in top features\n",
      "\n",
      " BUSINESS INSIGHTS:\n",
      "--------------------------------------------------\n",
      "• Word 'viagra' appears 346000.0x more in spam than ham\n",
      "• 15 words appear ONLY in spam\n",
      "• 0 words appear ONLY in ham\n",
      "\n",
      " MACHINE LEARNING IMPLICATIONS:\n",
      "--------------------------------------------------\n",
      "• High-ratio words should have higher feature weights\n",
      "• Spam-only words can be used as strong spam indicators\n",
      "• Ham-only words can be used as strong legitimate email indicators\n",
      "• Consider creating binary features for top discriminative words\n"
     ]
    }
   ],
   "source": [
    "# DISCRIMINATIVE WORDS ANALYSIS\n",
    "# Identify words that best distinguish spam from ham emails\n",
    "\n",
    "def get_discriminative_words(matrix, labels, feature_names, n=20):\n",
    "    \"\"\"\n",
    "    Calculate discrimination ratio for each word (spam_frequency / ham_frequency)\n",
    "    Higher ratios indicate words more common in spam\n",
    "    \"\"\"\n",
    "    # Get indices for each class\n",
    "    spam_indices = [i for i, label in enumerate(labels) if label == 'spam']\n",
    "    ham_indices = [i for i, label in enumerate(labels) if label == 'ham']\n",
    "    \n",
    "    # Calculate word frequencies for each class\n",
    "    spam_counts = matrix[spam_indices].sum(axis=0).A1  # Convert to 1D array\n",
    "    ham_counts = matrix[ham_indices].sum(axis=0).A1\n",
    "    \n",
    "    # Calculate discrimination ratio (avoid division by zero)\n",
    "    discrimination_ratio = np.where(ham_counts > 0, spam_counts / ham_counts, spam_counts * 1000)\n",
    "    \n",
    "    # Get top discriminative words\n",
    "    top_indices = np.argsort(discrimination_ratio)[-n:][::-1]\n",
    "    \n",
    "    results = []\n",
    "    for i in top_indices:\n",
    "        if spam_counts[i] > 0:  # Only include words that appear in spam\n",
    "            ratio = discrimination_ratio[i]\n",
    "            spam_freq = spam_counts[i]\n",
    "            ham_freq = ham_counts[i]\n",
    "            results.append((feature_names[i], ratio, spam_freq, ham_freq))\n",
    "    \n",
    "    return results\n",
    "\n",
    "# Get discriminative words\n",
    "discriminative_words = get_discriminative_words(X_train, y_train, feature_names, n=15)\n",
    "\n",
    "# Visualization\n",
    "fig, (ax1, ax2) = plt.subplots(1, 2, figsize=(16, 8))\n",
    "\n",
    "# Top discriminative words (most spam-biased)\n",
    "word_names = [word for word, _, _, _ in discriminative_words[:10]]\n",
    "ratios = [ratio for _, ratio, _, _ in discriminative_words[:10]]\n",
    "\n",
    "bars = ax1.barh(range(len(word_names)), ratios, color='red', alpha=0.7)\n",
    "ax1.set_yticks(range(len(word_names)))\n",
    "ax1.set_yticklabels(word_names)\n",
    "ax1.set_xlabel('Discrimination Ratio (Spam/Ham)', fontsize=12)\n",
    "ax1.set_title('Top 10 Most Spam-Discriminative Words', fontsize=14, fontweight='bold')\n",
    "ax1.grid(True, alpha=0.3)\n",
    "\n",
    "# Add ratio values on bars\n",
    "for i, (bar, ratio) in enumerate(zip(bars, ratios)):\n",
    "    ax1.text(bar.get_width() + 0.1, bar.get_y() + bar.get_height()/2, \n",
    "             f'{ratio:.1f}x', ha='left', va='center', fontweight='bold')\n",
    "\n",
    "# Words that appear only in ham (anti-spam indicators)\n",
    "ham_only_words = []\n",
    "for i, (word, ratio, spam_freq, ham_freq) in enumerate(discriminative_words):\n",
    "    if ham_freq > 0 and spam_freq == 0:\n",
    "        ham_only_words.append((word, ham_freq))\n",
    "\n",
    "# Sort by frequency and take top 10\n",
    "ham_only_words.sort(key=lambda x: x[1], reverse=True)\n",
    "ham_only_words = ham_only_words[:10]\n",
    "\n",
    "if ham_only_words:\n",
    "    ham_word_names = [word for word, _ in ham_only_words]\n",
    "    ham_frequencies = [freq for _, freq in ham_only_words]\n",
    "    \n",
    "    bars2 = ax2.barh(range(len(ham_word_names)), ham_frequencies, color='green', alpha=0.7)\n",
    "    ax2.set_yticks(range(len(ham_word_names)))\n",
    "    ax2.set_yticklabels(ham_word_names)\n",
    "    ax2.set_xlabel('Frequency in Ham Emails', fontsize=12)\n",
    "    ax2.set_title('Top 10 Ham-Only Words (Anti-Spam Indicators)', fontsize=14, fontweight='bold')\n",
    "    ax2.grid(True, alpha=0.3)\n",
    "else:\n",
    "    ax2.text(0.5, 0.5, 'No ham-only words found\\nin top discriminative list', \n",
    "             ha='center', va='center', transform=ax2.transAxes, fontsize=12)\n",
    "    ax2.set_title('Ham-Only Words Analysis', fontsize=14, fontweight='bold')\n",
    "\n",
    "plt.tight_layout()\n",
    "plt.show()\n",
    "\n",
    "# Detailed insights\n",
    "print(\"\\n\" + \"=\"*70)\n",
    "print(\"DISCRIMINATIVE WORDS ANALYSIS - KEY INSIGHTS\")\n",
    "print(\"=\"*70)\n",
    "\n",
    "print(\"\\n 🔴 MOST SPAM-DISCRIMINATIVE WORDS:\")\n",
    "print(\"-\" * 50)\n",
    "for i, (word, ratio, spam_freq, ham_freq) in enumerate(discriminative_words[:10], 1):\n",
    "    print(f\"{i:2d}. {word:<15} | Ratio: {ratio:6.1f}x | Spam: {spam_freq:3d} | Ham: {ham_freq:3d}\")\n",
    "\n",
    "print(\"\\n 🟢 HAM-ONLY WORDS (Anti-Spam Indicators):\")\n",
    "print(\"-\" * 50)\n",
    "if ham_only_words:\n",
    "    for i, (word, freq) in enumerate(ham_only_words[:10], 1):\n",
    "        print(f\"{i:2d}. {word:<15} | Frequency: {freq:3d}\")\n",
    "else:\n",
    "    print(\"   No significant ham-only words found in top features\")\n",
    "\n",
    "# Business insights\n",
    "print(\"\\n BUSINESS INSIGHTS:\")\n",
    "print(\"-\" * 50)\n",
    "top_spam_word, top_ratio, _, _ = discriminative_words[0]\n",
    "print(f\"• Word '{top_spam_word}' appears {top_ratio:.1f}x more in spam than ham\")\n",
    "print(f\"• {len([w for w, _, s, h in discriminative_words if s > 0 and h == 0])} words appear ONLY in spam\")\n",
    "print(f\"• {len([w for w, _, s, h in discriminative_words if s == 0 and h > 0])} words appear ONLY in ham\")\n",
    "\n",
    "# ML implications\n",
    "print(\"\\n MACHINE LEARNING IMPLICATIONS:\")\n",
    "print(\"-\" * 50)\n",
    "print(\"• High-ratio words should have higher feature weights\")\n",
    "print(\"• Spam-only words can be used as strong spam indicators\")\n",
    "print(\"• Ham-only words can be used as strong legitimate email indicators\")\n",
    "print(\"• Consider creating binary features for top discriminative words\")\n"
   ]
  },
  {
   "cell_type": "markdown",
   "metadata": {},
   "source": [
    "**DataFrame explanation:**  \n",
    "- Each **row** represents a single email.  \n",
    "- Each **column** represents a unique word found across all emails.  \n",
    "- The values are **1** if the word appears in the email, **0** otherwise.  \n",
    "This allows you to see the presence or absence of each word in every email."
   ]
  },
  {
   "cell_type": "markdown",
   "metadata": {},
   "source": [
    "##### Preprocesamiento de los correos con el vectorizador creado anteriormente"
   ]
  },
  {
   "cell_type": "markdown",
   "metadata": {},
   "source": [
    "## 7.- Preprocessing Pipeline Summary\n",
    "\n",
    "In this project, we demonstrated **comprehensive data preprocessing techniques** for text classification using email data. The main preprocessing steps included:\n",
    "\n",
    "1. **Data Selection:**  \n",
    "   We used the 2007 TREC Public Spam Corpus, consisting of over 75,000 emails labeled as spam or ham.  \n",
    "\n",
    "2. **HTML Content Cleaning:**  \n",
    "   - Implemented custom `MLStripper` class to remove HTML tags.  \n",
    "   - Handled both plain text and HTML email formats.  \n",
    "   - Preserved only meaningful text content.  \n",
    "\n",
    "3. **Text Preprocessing Pipeline:**  \n",
    "   - **Punctuation removal** to clean text from unnecessary symbols.  \n",
    "   - **Stopwords filtering** to remove common, uninformative words.  \n",
    "   - **Stemming** using Porter Stemmer to reduce words to their root forms.  \n",
    "   - **Tokenization** to split emails into individual words.  \n",
    "\n",
    "4. **Text Vectorization:**  \n",
    "   - Used `CountVectorizer` to transform preprocessed text into numerical features.  \n",
    "   - Created Bag-of-Words representation suitable for machine learning algorithms.  \n",
    "   - Generated document-term matrix with 20,890 unique features from 1,000 emails.  \n",
    "\n",
    "5. **Data Structure Preparation:**  \n",
    "   - Organized emails into structured format (subject + body).  \n",
    "   - Maintained label associations for supervised learning.  \n",
    "   - Prepared numerical feature matrix ready for ML algorithms.  \n",
    "\n",
    "**Next Steps:** This preprocessed data is now ready for machine learning algorithms such as Logistic Regression, Naive Bayes, Random Forest, or Support Vector Machines for email classification tasks.\n",
    "\n",
    "**Portfolio Integration:** The clean, vectorized dataset prepared in this preprocessing pipeline will be utilized in separate machine learning projects within the Machine Learning section of this portfolio to demonstrate different classification approaches and compare algorithm performance on the same preprocessed data.  \n",
    "\n",
    "\n"
   ]
  },
  {
   "cell_type": "markdown",
   "metadata": {},
   "source": []
  },
  {
   "cell_type": "markdown",
   "metadata": {},
   "source": [
    "### Advanced Analysis Summary\n",
    "\n",
    "In addition to the core preprocessing pipeline, this project includes **advanced exploratory data analysis** that provides deeper insights into the email data characteristics:\n",
    "\n",
    "#### **Key Analytical Insights:**\n",
    "- **Discriminative Words**: Identified specific vocabulary that strongly distinguishes spam from legitimate emails\n",
    "- **Spam Pattern Categorization**: Classified different types of spam campaigns (financial, medical, promotional)\n",
    "- **Language Complexity Analysis**: Analyzed sophistication differences between spam and legitimate email language\n",
    "\n",
    "#### **Business Value:**\n",
    "These analyses provide actionable insights for:\n",
    "- **Feature Engineering**: Creating targeted features based on discriminative words and patterns\n",
    "- **Model Optimization**: Understanding data characteristics to select appropriate ML algorithms\n",
    "- **Spam Detection Rules**: Developing pattern-based filtering rules for real-world applications\n",
    "\n",
    "#### **Machine Learning Implications:**\n",
    "The advanced analysis enables:\n",
    "- **Weighted Features**: Prioritizing high-discrimination words in classification models\n",
    "- **Pattern-Based Features**: Creating composite features for different spam types\n",
    "- **Complexity Thresholds**: Using language sophistication as a classification criterion\n"
   ]
  },
  {
   "cell_type": "markdown",
   "metadata": {},
   "source": []
  }
 ],
 "metadata": {
  "kernelspec": {
   "display_name": "machine_learning_env",
   "language": "python",
   "name": "python3"
  },
  "language_info": {
   "codemirror_mode": {
    "name": "ipython",
    "version": 3
   },
   "file_extension": ".py",
   "mimetype": "text/x-python",
   "name": "python",
   "nbconvert_exporter": "python",
   "pygments_lexer": "ipython3",
   "version": "3.9.23"
  }
 },
 "nbformat": 4,
 "nbformat_minor": 4
}
